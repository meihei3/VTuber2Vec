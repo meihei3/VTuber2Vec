{
 "cells": [
  {
   "cell_type": "markdown",
   "metadata": {},
   "source": [
    "# README的な"
   ]
  },
  {
   "cell_type": "markdown",
   "metadata": {},
   "source": [
    "## 辞書登録の方法\n",
    "#### 参考URL\n",
    "- https://taku910.github.io/mecab/dic.html\n",
    "\n",
    "#### 大雑把に\n",
    "~.csvファイルに  \n",
    "`ユーザ設定,,,10,名詞,一般,*,*,*,*,ユーザ設定,ユーザセッテイ,ユーザセッテイ,追加エントリ`  \n",
    "って感じで単語追加。  \n",
    "今回は  \n",
    "`mecab-dict-index -d /usr/local/lib/mecab/dic/ipadic -u vtuber.dic -f utf-8 -t utf-8 vtuber_user_dic.csv`  \n",
    "でコンパイル  "
   ]
  },
  {
   "cell_type": "code",
   "execution_count": 1,
   "metadata": {
    "ExecuteTime": {
     "end_time": "2018-10-25T11:12:04.899859Z",
     "start_time": "2018-10-25T11:12:04.822256Z"
    }
   },
   "outputs": [
    {
     "data": {
      "text/plain": [
       "0"
      ]
     },
     "execution_count": 1,
     "metadata": {},
     "output_type": "execute_result"
    }
   ],
   "source": [
    "import subprocess\n",
    "\n",
    "subprocess.call([\n",
    "    \"/usr/local/Cellar/mecab/0.996/libexec/mecab/mecab-dict-index\",\n",
    "    \"-d\", \"/usr/local/lib/mecab/dic/ipadic\",\n",
    "    \"-u\", \"vtuber.dic\",\n",
    "    \"-f\", \"utf-8\",\n",
    "    \"-t\", \"utf-8\", \"vtuber_user_dic.csv\"\n",
    "])"
   ]
  },
  {
   "cell_type": "markdown",
   "metadata": {},
   "source": [
    "## 比較"
   ]
  },
  {
   "cell_type": "code",
   "execution_count": 2,
   "metadata": {
    "ExecuteTime": {
     "end_time": "2018-10-25T11:12:10.204266Z",
     "start_time": "2018-10-25T11:12:10.186572Z"
    },
    "collapsed": true
   },
   "outputs": [],
   "source": [
    "import MeCab\n",
    "text = \"みとぽん生放送　月ノ美兎 × ウェザーロイドAiri コラボ生放送 2018.09.20\""
   ]
  },
  {
   "cell_type": "code",
   "execution_count": 3,
   "metadata": {
    "ExecuteTime": {
     "end_time": "2018-10-25T11:12:12.908094Z",
     "start_time": "2018-10-25T11:12:12.848110Z"
    }
   },
   "outputs": [
    {
     "name": "stdout",
     "output_type": "stream",
     "text": [
      "みと        \t名詞,固有名詞,人名,名,*,*,みと,ミト,ミト\n",
      "ぽん        \t副詞,助詞類接続,*,*,*,*,ぽん,ポン,ポン\n",
      "生放送       \t名詞,一般,*,*,*,*,生放送,ナマホウソウ,ナマホーソー\n",
      "　         \t記号,空白,*,*,*,*,　,　,　\n",
      "月         \t名詞,一般,*,*,*,*,月,ツキ,ツキ\n",
      "ノ         \t記号,一般,*,*,*,*,ノ,ノ,ノ\n",
      "美         \t名詞,固有名詞,人名,名,*,*,美,ヨシ,ヨシ\n",
      "兎         \t名詞,一般,*,*,*,*,兎,ウサギ,ウサギ\n",
      "×         \t記号,一般,*,*,*,*,×,カケル,カケル\n",
      "ウェザーロイド   \t名詞,一般,*,*,*,*,*\n",
      "Airi      \t名詞,一般,*,*,*,*,*\n",
      "コラボ       \t名詞,一般,*,*,*,*,*\n",
      "生放送       \t名詞,一般,*,*,*,*,生放送,ナマホウソウ,ナマホーソー\n",
      "2018      \t名詞,数,*,*,*,*,*\n",
      ".         \t名詞,サ変接続,*,*,*,*,*\n",
      "09        \t名詞,数,*,*,*,*,*\n",
      ".         \t名詞,サ変接続,*,*,*,*,*\n",
      "20        \t名詞,数,*,*,*,*,*\n"
     ]
    }
   ],
   "source": [
    "mecab_1 = MeCab.Tagger(\"\")\n",
    "mecab_1.parse(\"\")\n",
    "node = mecab_1.parseToNode(text)\n",
    "while node:\n",
    "    if node.feature.split(',')[0] != \"BOS/EOS\":\n",
    "        print(\"{:<10}\\t{}\".format(node.surface, node.feature))\n",
    "    node = node.next"
   ]
  },
  {
   "cell_type": "code",
   "execution_count": 4,
   "metadata": {
    "ExecuteTime": {
     "end_time": "2018-10-25T11:12:15.730443Z",
     "start_time": "2018-10-25T11:12:15.683993Z"
    }
   },
   "outputs": [
    {
     "name": "stdout",
     "output_type": "stream",
     "text": [
      "みと        \t名詞,固有名詞,人名,名,*,*,みと,ミト,ミト\n",
      "ぽん        \t副詞,助詞類接続,*,*,*,*,ぽん,ポン,ポン\n",
      "生放送       \t名詞,一般,*,*,*,*,生放送,ナマホウソウ,ナマホーソー\n",
      "　         \t記号,空白,*,*,*,*,　,　,　\n",
      "月ノ美兎      \t名詞,固有名詞,一般,*,*,*,月ノ美兎,ツキノミト,ツキノミト\n",
      "×         \t記号,一般,*,*,*,*,×,カケル,カケル\n",
      "ウェザーロイド   \t名詞,一般,*,*,*,*,*\n",
      "Airi      \t名詞,固有名詞,人名,一般,*,*,AiRI,アイリ,アイリ\n",
      "コラボ       \t名詞,固有名詞,一般,*,*,*,コラボ,コラボ,コラボ\n",
      "生放送       \t名詞,一般,*,*,*,*,生放送,ナマホウソウ,ナマホーソー\n",
      "2018      \t名詞,数,*,*,*,*,*\n",
      ".         \t記号,一般,*,*,*,*,*\n",
      "09        \t名詞,数,*,*,*,*,*\n",
      ".         \t記号,一般,*,*,*,*,*\n",
      "20        \t名詞,数,*,*,*,*,*\n"
     ]
    }
   ],
   "source": [
    "mecab_2 = MeCab.Tagger(\"-d /usr/local/lib/mecab/dic/mecab-ipadic-neologd/\")\n",
    "mecab_2.parse(\"\")\n",
    "node = mecab_2.parseToNode(text)\n",
    "while node:\n",
    "    if node.feature.split(',')[0] != \"BOS/EOS\":\n",
    "        print(\"{:<10}\\t{}\".format(node.surface, node.feature))\n",
    "    node = node.next"
   ]
  },
  {
   "cell_type": "code",
   "execution_count": 5,
   "metadata": {
    "ExecuteTime": {
     "end_time": "2018-10-25T11:12:17.895197Z",
     "start_time": "2018-10-25T11:12:17.864009Z"
    }
   },
   "outputs": [
    {
     "name": "stdout",
     "output_type": "stream",
     "text": [
      "みと        \t名詞,固有名詞,人名,名,*,*,みと,ミト,ミト\n",
      "ぽん        \t副詞,助詞類接続,*,*,*,*,ぽん,ポン,ポン\n",
      "生放送       \t名詞,一般,*,*,*,*,生放送,ナマホウソウ,ナマホーソー\n",
      "　         \t記号,空白,*,*,*,*,　,　,　\n",
      "月ノ美兎      \t名詞,固有名詞,人名,一般,*,*,月ノ美兎,ツキノミト,ツキノミト\n",
      "×         \t記号,一般,*,*,*,*,×,カケル,カケル\n",
      "ウェザーロイド   \t名詞,固有名詞,人名,一般,*,*,ウェザーロイド,ウェザーロイド,ウェザーロイド\n",
      "Airi      \t名詞,固有名詞,人名,一般,*,*,AiRI,アイリ,アイリ\n",
      "コラボ       \t名詞,固有名詞,一般,*,*,*,コラボ,コラボ,コラボ\n",
      "生放送       \t名詞,一般,*,*,*,*,生放送,ナマホウソウ,ナマホーソー\n",
      "2018      \t名詞,数,*,*,*,*,*\n",
      ".         \t記号,一般,*,*,*,*,*\n",
      "09        \t名詞,数,*,*,*,*,*\n",
      ".         \t記号,一般,*,*,*,*,*\n",
      "20        \t名詞,数,*,*,*,*,*\n"
     ]
    }
   ],
   "source": [
    "mecab_3 = MeCab.Tagger(\"-d /usr/local/lib/mecab/dic/mecab-ipadic-neologd/ -u vtuber.dic\")\n",
    "mecab_3.parse(\"\")\n",
    "node = mecab_3.parseToNode(text)\n",
    "while node:\n",
    "    if node.feature.split(',')[0] != \"BOS/EOS\":\n",
    "        print(\"{:<10}\\t{}\".format(node.surface, node.feature))\n",
    "    node = node.next"
   ]
  }
 ],
 "metadata": {
  "kernelspec": {
   "display_name": "Python 3",
   "language": "python",
   "name": "python3"
  },
  "varInspector": {
   "cols": {
    "lenName": 16,
    "lenType": 16,
    "lenVar": 40
   },
   "kernels_config": {
    "python": {
     "delete_cmd_postfix": "",
     "delete_cmd_prefix": "del ",
     "library": "var_list.py",
     "varRefreshCmd": "print(var_dic_list())"
    },
    "r": {
     "delete_cmd_postfix": ") ",
     "delete_cmd_prefix": "rm(",
     "library": "var_list.r",
     "varRefreshCmd": "cat(var_dic_list()) "
    }
   },
   "types_to_exclude": [
    "module",
    "function",
    "builtin_function_or_method",
    "instance",
    "_Feature"
   ],
   "window_display": false
  }
 },
 "nbformat": 4,
 "nbformat_minor": 2
}
