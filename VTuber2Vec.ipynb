{
 "cells": [
  {
   "cell_type": "code",
   "execution_count": 1,
   "metadata": {
    "ExecuteTime": {
     "end_time": "2018-10-30T21:04:51.164188Z",
     "start_time": "2018-10-30T21:04:51.128025Z"
    },
    "collapsed": true
   },
   "outputs": [],
   "source": [
    "%load_ext autoreload\n",
    "%autoreload 2"
   ]
  },
  {
   "cell_type": "code",
   "execution_count": 2,
   "metadata": {
    "ExecuteTime": {
     "end_time": "2018-10-30T21:04:54.959273Z",
     "start_time": "2018-10-30T21:04:52.565897Z"
    },
    "collapsed": true
   },
   "outputs": [],
   "source": [
    "from gensim.models.doc2vec import Doc2Vec\n",
    "import warnings\n",
    "warnings.filterwarnings('ignore')"
   ]
  },
  {
   "cell_type": "code",
   "execution_count": 3,
   "metadata": {
    "ExecuteTime": {
     "end_time": "2018-10-30T21:04:56.166986Z",
     "start_time": "2018-10-30T21:04:55.846783Z"
    },
    "collapsed": true
   },
   "outputs": [],
   "source": [
    "model = Doc2Vec.load(\"vtuber2vec.model\")"
   ]
  },
  {
   "cell_type": "code",
   "execution_count": 4,
   "metadata": {
    "ExecuteTime": {
     "end_time": "2018-10-30T21:04:57.049593Z",
     "start_time": "2018-10-30T21:04:56.976218Z"
    }
   },
   "outputs": [
    {
     "data": {
      "text/plain": [
       "[('鳩羽つぐ', 0.7837015986442566),\n",
       " ('バーチャルグランドマザー小林幸子', 0.7671225070953369),\n",
       " ('アズマ リム(アズリム)', 0.7581514120101929),\n",
       " ('根羽清ココロ', 0.7575715780258179),\n",
       " ('彩撮モラ(いろどりもら)', 0.752982497215271),\n",
       " ('電脳少女YouTuberシロ', 0.7524362802505493),\n",
       " ('キズナアイ(ゲーム)', 0.7428669929504395),\n",
       " ('甲賀流忍者 ぽんぽこ', 0.7418431043624878),\n",
       " ('みゅみゅ', 0.7410709857940674),\n",
       " ('つのはねあかぎ', 0.7369824647903442)]"
      ]
     },
     "execution_count": 4,
     "metadata": {},
     "output_type": "execute_result"
    }
   ],
   "source": [
    "model.docvecs.most_similar([\"キズナアイ\"])"
   ]
  },
  {
   "cell_type": "code",
   "execution_count": 5,
   "metadata": {
    "ExecuteTime": {
     "end_time": "2018-10-30T21:04:58.521938Z",
     "start_time": "2018-10-30T21:04:58.454195Z"
    }
   },
   "outputs": [
    {
     "data": {
      "text/plain": [
       "[('猫宮ひなた', 0.7608127593994141),\n",
       " ('バーチャルグランドマザー小林幸子', 0.7583506107330322),\n",
       " ('ベイレーン', 0.7517964243888855),\n",
       " ('輝夜月(かぐやるな)', 0.7477356195449829),\n",
       " ('ときのそら', 0.7424215078353882),\n",
       " ('笹木咲', 0.7400672435760498),\n",
       " ('アズマ リム(アズリム)', 0.7376319169998169),\n",
       " ('鈴木あんず 白藤環(あんたま) えのぐ', 0.7339468598365784),\n",
       " ('藤崎由愛(YUA)', 0.7336488366127014),\n",
       " ('てるとくん', 0.732345700263977)]"
      ]
     },
     "execution_count": 5,
     "metadata": {},
     "output_type": "execute_result"
    }
   ],
   "source": [
    "model.docvecs.most_similar(\"ミライアカリ\")"
   ]
  },
  {
   "cell_type": "code",
   "execution_count": 6,
   "metadata": {
    "ExecuteTime": {
     "end_time": "2018-10-30T21:04:59.820472Z",
     "start_time": "2018-10-30T21:04:59.753819Z"
    }
   },
   "outputs": [
    {
     "data": {
      "text/plain": [
       "[('木曽あずき', 0.8142907619476318),\n",
       " ('神楽すず', 0.8009781241416931),\n",
       " ('北上双葉', 0.7948775291442871),\n",
       " ('麗子ちゃんねる', 0.7801605463027954),\n",
       " ('金剛いろは', 0.7660858631134033),\n",
       " ('もこ田めめめ', 0.7632548213005066),\n",
       " ('ヤマト・イオリ', 0.7602472305297852),\n",
       " ('八重沢なとり', 0.7598410844802856),\n",
       " ('花京院ちえり', 0.7554677724838257),\n",
       " ('薬袋カルテ(みないかるて)', 0.7511451244354248)]"
      ]
     },
     "execution_count": 6,
     "metadata": {},
     "output_type": "execute_result"
    }
   ],
   "source": [
    "model.docvecs.most_similar([\"牛巻りこ\"])"
   ]
  },
  {
   "cell_type": "code",
   "execution_count": 7,
   "metadata": {
    "ExecuteTime": {
     "end_time": "2018-10-30T21:05:01.851085Z",
     "start_time": "2018-10-30T21:05:01.789119Z"
    }
   },
   "outputs": [
    {
     "data": {
      "text/plain": [
       "[('樋口楓', 0.7573195099830627),\n",
       " ('モイラ', 0.728594958782196),\n",
       " ('すあだちゃんねる', 0.727638840675354),\n",
       " ('竜胆尊(りんどうみこと)', 0.7256771922111511),\n",
       " ('バーチャルグランドマザー小林幸子', 0.7214063405990601),\n",
       " ('森中花咲', 0.7205692529678345),\n",
       " ('滓残', 0.7169812917709351),\n",
       " ('エルフのえる', 0.7163246870040894),\n",
       " ('剣持刀也', 0.7156758308410645),\n",
       " ('雪汝(セツナ)', 0.7134981155395508)]"
      ]
     },
     "execution_count": 7,
     "metadata": {},
     "output_type": "execute_result"
    }
   ],
   "source": [
    "model.docvecs.most_similar([\"月ノ美兎\"])"
   ]
  },
  {
   "cell_type": "code",
   "execution_count": 8,
   "metadata": {
    "ExecuteTime": {
     "end_time": "2018-10-30T21:05:03.001436Z",
     "start_time": "2018-10-30T21:05:02.931830Z"
    }
   },
   "outputs": [
    {
     "data": {
      "text/plain": [
       "[('道明寺ここあ', 0.8111439943313599),\n",
       " ('花鋏キョウ', 0.7935375571250916),\n",
       " ('バーチャルグランドマザー小林幸子', 0.791624903678894),\n",
       " ('瀬兎一也/Setoya', 0.787326991558075),\n",
       " ('Ami Yamato(海外)', 0.7739435434341431),\n",
       " ('水科葵(みずしなあおい)', 0.7702807188034058),\n",
       " ('麗子ちゃんねる', 0.7608542442321777),\n",
       " ('響木アオ', 0.7595261931419373),\n",
       " ('夏実萌恵', 0.753710150718689),\n",
       " ('小山内めい', 0.748482346534729)]"
      ]
     },
     "execution_count": 8,
     "metadata": {},
     "output_type": "execute_result"
    }
   ],
   "source": [
    "model.docvecs.most_similar([\"YuNi\"])"
   ]
  },
  {
   "cell_type": "code",
   "execution_count": 9,
   "metadata": {
    "ExecuteTime": {
     "end_time": "2018-10-30T21:05:04.258157Z",
     "start_time": "2018-10-30T21:05:04.193107Z"
    }
   },
   "outputs": [
    {
     "data": {
      "text/plain": [
       "[('甲賀流忍者 ぽんぽこ', 0.8443572521209717),\n",
       " ('麗子ちゃんねる', 0.7645189762115479),\n",
       " ('マリーちゃんのチャンネル', 0.7601170539855957),\n",
       " ('リタ', 0.7457727193832397),\n",
       " ('かしこまり', 0.7397837042808533),\n",
       " ('ヤミクモケリン', 0.7388377785682678),\n",
       " ('すあだちゃんねる', 0.7348339557647705),\n",
       " ('花鋏キョウ', 0.7346163988113403),\n",
       " ('おめがレイ おめがリオ', 0.729577898979187),\n",
       " ('マグロナ', 0.727283239364624)]"
      ]
     },
     "execution_count": 9,
     "metadata": {},
     "output_type": "execute_result"
    }
   ],
   "source": [
    "model.docvecs.most_similar([\"ピーナッツくん\"])"
   ]
  },
  {
   "cell_type": "code",
   "execution_count": 10,
   "metadata": {
    "ExecuteTime": {
     "end_time": "2018-10-30T21:05:05.319743Z",
     "start_time": "2018-10-30T21:05:05.255764Z"
    }
   },
   "outputs": [
    {
     "data": {
      "text/plain": [
       "[('笹木咲', 0.13739053905010223),\n",
       " ('椎名唯華', 0.13086795806884766),\n",
       " ('花鋏キョウ', 0.11320808529853821),\n",
       " ('道明寺ここあ', 0.10415159165859222),\n",
       " ('マスター TV', 0.09993881732225418),\n",
       " ('輝夜月(かぐやるな)', 0.09794224798679352),\n",
       " ('稲荷くろむ', 0.09520412981510162),\n",
       " ('マリーちゃんのチャンネル', 0.09477486461400986),\n",
       " ('御来屋久遠', 0.08487676084041595),\n",
       " ('宇志海いちご', 0.08287391811609268)]"
      ]
     },
     "execution_count": 10,
     "metadata": {},
     "output_type": "execute_result"
    }
   ],
   "source": [
    "model.docvecs.most_similar(positive=[\"ミライアカリ\"], negative=[\"電脳少女YouTuberシロ\"])"
   ]
  },
  {
   "cell_type": "code",
   "execution_count": 11,
   "metadata": {
    "ExecuteTime": {
     "end_time": "2018-10-30T21:05:07.622723Z",
     "start_time": "2018-10-30T21:05:07.560709Z"
    }
   },
   "outputs": [
    {
     "data": {
      "text/plain": [
       "[('YuNi', 0.17840759456157684),\n",
       " ('金剛いろは', 0.15140143036842346),\n",
       " ('輝夜月(かぐやるな)', 0.14916498959064484),\n",
       " ('ヤマト・イオリ', 0.14624452590942383),\n",
       " ('アズマ リム(アズリム)', 0.13103008270263672),\n",
       " ('鈴木あんず 白藤環(あんたま) えのぐ', 0.1169559434056282),\n",
       " ('Yumi', 0.10818195343017578),\n",
       " ('藤間桜', 0.10436004400253296),\n",
       " ('天神子兎音(てんじんことね)', 0.10072903335094452),\n",
       " ('笹木咲', 0.09927154332399368)]"
      ]
     },
     "execution_count": 11,
     "metadata": {},
     "output_type": "execute_result"
    }
   ],
   "source": [
    "model.docvecs.most_similar(positive=[\"ミライアカリ\"], negative=[\"万楽えね(まぐら えね)\"])"
   ]
  },
  {
   "cell_type": "code",
   "execution_count": 12,
   "metadata": {
    "ExecuteTime": {
     "end_time": "2018-10-30T21:05:15.903315Z",
     "start_time": "2018-10-30T21:05:15.832056Z"
    }
   },
   "outputs": [
    {
     "data": {
      "text/plain": [
       "[('あっくん大魔王', 0.13221126794815063),\n",
       " ('カフェ野ゾンビ子', 0.13062161207199097),\n",
       " ('北上双葉', 0.12280569970607758),\n",
       " ('いるはーと', 0.10958702862262726),\n",
       " ('のらきゃっと', 0.10780391842126846),\n",
       " ('白上フブキ', 0.10770507156848907),\n",
       " ('ロボ子さん', 0.10725941509008408),\n",
       " ('赤羽葉子', 0.10664438456296921),\n",
       " ('藤間桜', 0.09843757748603821),\n",
       " ('金剛いろは', 0.09733693301677704)]"
      ]
     },
     "execution_count": 12,
     "metadata": {},
     "output_type": "execute_result"
    }
   ],
   "source": [
    "model.docvecs.most_similar(positive=[\"電脳少女YouTuberシロ\"], negative=[\"キズナアイ\"])"
   ]
  },
  {
   "cell_type": "code",
   "execution_count": null,
   "metadata": {
    "collapsed": true
   },
   "outputs": [],
   "source": []
  }
 ],
 "metadata": {
  "kernelspec": {
   "display_name": "Python 3",
   "language": "python",
   "name": "python3"
  },
  "varInspector": {
   "cols": {
    "lenName": 16,
    "lenType": 16,
    "lenVar": 40
   },
   "kernels_config": {
    "python": {
     "delete_cmd_postfix": "",
     "delete_cmd_prefix": "del ",
     "library": "var_list.py",
     "varRefreshCmd": "print(var_dic_list())"
    },
    "r": {
     "delete_cmd_postfix": ") ",
     "delete_cmd_prefix": "rm(",
     "library": "var_list.r",
     "varRefreshCmd": "cat(var_dic_list()) "
    }
   },
   "types_to_exclude": [
    "module",
    "function",
    "builtin_function_or_method",
    "instance",
    "_Feature"
   ],
   "window_display": false
  }
 },
 "nbformat": 4,
 "nbformat_minor": 2
}
