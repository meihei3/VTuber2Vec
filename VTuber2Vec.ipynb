{
 "cells": [
  {
   "cell_type": "code",
   "execution_count": 1,
   "metadata": {
    "ExecuteTime": {
     "end_time": "2018-11-07T09:57:25.964729Z",
     "start_time": "2018-11-07T09:57:25.920475Z"
    },
    "collapsed": true
   },
   "outputs": [],
   "source": [
    "%load_ext autoreload\n",
    "%autoreload 2"
   ]
  },
  {
   "cell_type": "code",
   "execution_count": 2,
   "metadata": {
    "ExecuteTime": {
     "end_time": "2018-11-07T09:57:29.790014Z",
     "start_time": "2018-11-07T09:57:27.449660Z"
    },
    "collapsed": true
   },
   "outputs": [],
   "source": [
    "from gensim.models.doc2vec import Doc2Vec\n",
    "import warnings\n",
    "warnings.filterwarnings('ignore')"
   ]
  },
  {
   "cell_type": "code",
   "execution_count": 3,
   "metadata": {
    "ExecuteTime": {
     "end_time": "2018-11-07T09:57:30.838790Z",
     "start_time": "2018-11-07T09:57:30.508542Z"
    },
    "collapsed": true
   },
   "outputs": [],
   "source": [
    "model = Doc2Vec.load(\"vtuber2vec.model\")"
   ]
  },
  {
   "cell_type": "code",
   "execution_count": 4,
   "metadata": {
    "ExecuteTime": {
     "end_time": "2018-11-07T09:57:32.030251Z",
     "start_time": "2018-11-07T09:57:31.953915Z"
    }
   },
   "outputs": [
    {
     "data": {
      "text/plain": [
       "[('キズナアイ(ゲーム)', 0.6685879230499268),\n",
       " ('鳩羽つぐ', 0.6562168598175049),\n",
       " ('バーチャルグランドマザー小林幸子', 0.6505011916160583),\n",
       " ('滓残', 0.6465306878089905),\n",
       " ('かめっち', 0.6317582130432129),\n",
       " ('根羽清ココロ', 0.6288496851921082),\n",
       " ('周防パトラ', 0.6280479431152344),\n",
       " ('バーチャルネットアイドルちゆ12歳', 0.6265146136283875),\n",
       " ('アズマ リム(アズリム)', 0.6205762624740601),\n",
       " ('かんな', 0.6187182664871216)]"
      ]
     },
     "execution_count": 4,
     "metadata": {},
     "output_type": "execute_result"
    }
   ],
   "source": [
    "model.docvecs.most_similar([\"キズナアイ\"])"
   ]
  },
  {
   "cell_type": "code",
   "execution_count": 5,
   "metadata": {
    "ExecuteTime": {
     "end_time": "2018-11-07T09:57:36.237898Z",
     "start_time": "2018-11-07T09:57:36.143552Z"
    }
   },
   "outputs": [
    {
     "data": {
      "text/plain": [
       "[('猫宮ひなた', 0.6380947828292847),\n",
       " ('Yumi', 0.6082218885421753),\n",
       " ('電脳少女YouTuberシロ', 0.6020306944847107),\n",
       " ('輝夜月(かぐやるな)', 0.5960196256637573),\n",
       " ('アズマ リム(アズリム)', 0.595544695854187),\n",
       " ('てるとくん', 0.5890487432479858),\n",
       " ('藤崎由愛(YUA)', 0.5871490240097046),\n",
       " ('笹木咲', 0.5867999196052551),\n",
       " ('宇森ひなこ', 0.5858906507492065),\n",
       " ('キャサリン・ワード', 0.5799461603164673)]"
      ]
     },
     "execution_count": 5,
     "metadata": {},
     "output_type": "execute_result"
    }
   ],
   "source": [
    "model.docvecs.most_similar(\"ミライアカリ\")"
   ]
  },
  {
   "cell_type": "code",
   "execution_count": 6,
   "metadata": {
    "ExecuteTime": {
     "end_time": "2018-11-07T09:57:40.489456Z",
     "start_time": "2018-11-07T09:57:40.424524Z"
    }
   },
   "outputs": [
    {
     "data": {
      "text/plain": [
       "[('木曽あずき', 0.7362344861030579),\n",
       " ('金剛いろは', 0.7140306234359741),\n",
       " ('神楽すず', 0.7127393484115601),\n",
       " ('北上双葉', 0.6976761817932129),\n",
       " ('麗子ちゃんねる', 0.6933128833770752),\n",
       " ('もこ田めめめ', 0.6790264844894409),\n",
       " ('花京院ちえり', 0.6739101409912109),\n",
       " ('八重沢なとり', 0.671521782875061),\n",
       " ('夜桜たま', 0.6673132181167603),\n",
       " ('海夜叉神', 0.642822802066803)]"
      ]
     },
     "execution_count": 6,
     "metadata": {},
     "output_type": "execute_result"
    }
   ],
   "source": [
    "model.docvecs.most_similar([\"牛巻りこ\"])"
   ]
  },
  {
   "cell_type": "code",
   "execution_count": 7,
   "metadata": {
    "ExecuteTime": {
     "end_time": "2018-11-07T09:57:43.225167Z",
     "start_time": "2018-11-07T09:57:43.169645Z"
    }
   },
   "outputs": [
    {
     "data": {
      "text/plain": [
       "[('樋口楓', 0.6642041206359863),\n",
       " ('ジョー・力一', 0.6296864151954651),\n",
       " ('花京院ちえり', 0.6175297498703003),\n",
       " ('エルフのえる', 0.6163861751556396),\n",
       " ('田中のおっさん', 0.6158455014228821),\n",
       " ('竜胆尊(りんどうみこと)', 0.6086177825927734),\n",
       " ('静凛', 0.6008509993553162),\n",
       " ('森中花咲', 0.5974584221839905),\n",
       " ('滓残', 0.5969076156616211),\n",
       " ('剣持刀也', 0.5967977046966553)]"
      ]
     },
     "execution_count": 7,
     "metadata": {},
     "output_type": "execute_result"
    }
   ],
   "source": [
    "model.docvecs.most_similar([\"月ノ美兎\"])"
   ]
  },
  {
   "cell_type": "code",
   "execution_count": 8,
   "metadata": {
    "ExecuteTime": {
     "end_time": "2018-11-07T09:57:46.397350Z",
     "start_time": "2018-11-07T09:57:46.332252Z"
    }
   },
   "outputs": [
    {
     "data": {
      "text/plain": [
       "[('道明寺ここあ', 0.7164599895477295),\n",
       " ('花鋏キョウ', 0.7086674571037292),\n",
       " ('水科葵(みずしなあおい)', 0.685217559337616),\n",
       " ('バーチャルグランドマザー小林幸子', 0.6782612204551697),\n",
       " ('瀬兎一也/Setoya', 0.6623908281326294),\n",
       " ('Yumi', 0.6538121700286865),\n",
       " ('リズ', 0.642198920249939),\n",
       " ('響木アオ', 0.6411802768707275),\n",
       " ('マヤ・プトゥリ', 0.6398899555206299),\n",
       " ('海月ねう(みつきねう)', 0.6390109062194824)]"
      ]
     },
     "execution_count": 8,
     "metadata": {},
     "output_type": "execute_result"
    }
   ],
   "source": [
    "model.docvecs.most_similar([\"YuNi\"])"
   ]
  },
  {
   "cell_type": "code",
   "execution_count": 9,
   "metadata": {
    "ExecuteTime": {
     "end_time": "2018-11-07T09:57:54.417391Z",
     "start_time": "2018-11-07T09:57:54.367062Z"
    }
   },
   "outputs": [
    {
     "data": {
      "text/plain": [
       "[('甲賀流忍者 ぽんぽこ', 0.736907958984375),\n",
       " ('リタ', 0.6523252129554749),\n",
       " ('花鋏キョウ', 0.5910376310348511),\n",
       " ('おめがレイ おめがリオ', 0.5767213702201843),\n",
       " ('マグロナ', 0.5743294954299927),\n",
       " ('かしこまり', 0.5690598487854004),\n",
       " ('マリーちゃんのチャンネル', 0.5662937164306641),\n",
       " ('キミノ ミヤ(MIYA KIMINO)', 0.5635198950767517),\n",
       " ('すーぱーそに子', 0.5629911422729492),\n",
       " ('滓残', 0.5576832294464111)]"
      ]
     },
     "execution_count": 9,
     "metadata": {},
     "output_type": "execute_result"
    }
   ],
   "source": [
    "model.docvecs.most_similar([\"ピーナッツくん\"])"
   ]
  },
  {
   "cell_type": "code",
   "execution_count": 10,
   "metadata": {
    "ExecuteTime": {
     "end_time": "2018-11-07T09:57:56.780548Z",
     "start_time": "2018-11-07T09:57:56.729398Z"
    }
   },
   "outputs": [
    {
     "data": {
      "text/plain": [
       "[('アズマ リム(アズリム)', 0.14557206630706787),\n",
       " ('御来屋久遠', 0.13356196880340576),\n",
       " ('笹木咲', 0.12453754246234894),\n",
       " ('花鋏キョウ', 0.12225392460823059),\n",
       " ('もちひよこ', 0.10518336296081543),\n",
       " ('宇志海いちご', 0.09801362454891205),\n",
       " ('道明寺ここあ', 0.09706918150186539),\n",
       " ('水科葵(みずしなあおい)', 0.09672732651233673),\n",
       " ('稲荷くろむ', 0.09140782803297043),\n",
       " ('輝夜月(かぐやるな)', 0.09019435942173004)]"
      ]
     },
     "execution_count": 10,
     "metadata": {},
     "output_type": "execute_result"
    }
   ],
   "source": [
    "model.docvecs.most_similar(positive=[\"ミライアカリ\"], negative=[\"電脳少女YouTuberシロ\"])"
   ]
  },
  {
   "cell_type": "code",
   "execution_count": 11,
   "metadata": {
    "ExecuteTime": {
     "end_time": "2018-11-07T09:58:05.023918Z",
     "start_time": "2018-11-07T09:58:04.973200Z"
    }
   },
   "outputs": [
    {
     "data": {
      "text/plain": [
       "[('輝夜月(かぐやるな)', 0.1604653149843216),\n",
       " ('アズマ リム(アズリム)', 0.15982744097709656),\n",
       " ('天神子兎音(てんじんことね)', 0.15834873914718628),\n",
       " ('YuNi', 0.15685462951660156),\n",
       " ('金剛いろは', 0.1565655916929245),\n",
       " ('電脳少女YouTuberシロ', 0.156377375125885),\n",
       " ('水科葵(みずしなあおい)', 0.13900700211524963),\n",
       " ('Ami Yamato(海外)', 0.13813529908657074),\n",
       " ('花鋏キョウ', 0.1335345357656479),\n",
       " ('Yumi', 0.12760503590106964)]"
      ]
     },
     "execution_count": 11,
     "metadata": {},
     "output_type": "execute_result"
    }
   ],
   "source": [
    "model.docvecs.most_similar(positive=[\"ミライアカリ\"], negative=[\"万楽えね(まぐら えね)\"])"
   ]
  },
  {
   "cell_type": "code",
   "execution_count": 12,
   "metadata": {
    "ExecuteTime": {
     "end_time": "2018-11-07T09:58:09.778823Z",
     "start_time": "2018-11-07T09:58:09.717569Z"
    }
   },
   "outputs": [
    {
     "data": {
      "text/plain": [
       "[('北上双葉', 0.1351689100265503),\n",
       " ('バーチャル番組連盟', 0.1260189712047577),\n",
       " ('しらゆりヘブンちゃんねる', 0.11549417674541473),\n",
       " ('赤羽葉子', 0.10731444507837296),\n",
       " ('夏色まつり', 0.0999576672911644),\n",
       " ('社築(やしろ きずく)', 0.09489458054304123),\n",
       " ('金剛いろは', 0.09397241473197937),\n",
       " ('いるはーと', 0.08312510699033737),\n",
       " ('白上フブキ', 0.08083683997392654),\n",
       " ('日雇礼子', 0.07923618704080582)]"
      ]
     },
     "execution_count": 12,
     "metadata": {},
     "output_type": "execute_result"
    }
   ],
   "source": [
    "model.docvecs.most_similar(positive=[\"電脳少女YouTuberシロ\"], negative=[\"キズナアイ\"])"
   ]
  },
  {
   "cell_type": "code",
   "execution_count": null,
   "metadata": {
    "collapsed": true
   },
   "outputs": [],
   "source": []
  }
 ],
 "metadata": {
  "kernelspec": {
   "display_name": "Python 3",
   "language": "python",
   "name": "python3"
  },
  "varInspector": {
   "cols": {
    "lenName": 16,
    "lenType": 16,
    "lenVar": 40
   },
   "kernels_config": {
    "python": {
     "delete_cmd_postfix": "",
     "delete_cmd_prefix": "del ",
     "library": "var_list.py",
     "varRefreshCmd": "print(var_dic_list())"
    },
    "r": {
     "delete_cmd_postfix": ") ",
     "delete_cmd_prefix": "rm(",
     "library": "var_list.r",
     "varRefreshCmd": "cat(var_dic_list()) "
    }
   },
   "types_to_exclude": [
    "module",
    "function",
    "builtin_function_or_method",
    "instance",
    "_Feature"
   ],
   "window_display": false
  }
 },
 "nbformat": 4,
 "nbformat_minor": 2
}
